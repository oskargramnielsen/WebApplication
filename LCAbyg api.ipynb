{
 "cells": [
  {
   "cell_type": "code",
   "execution_count": 1,
   "metadata": {},
   "outputs": [],
   "source": [
    "#imports\n",
    "\n",
    "import requests\n",
    "import csv \n",
    "from flask import Flask, render_template, url_for\n",
    "import os\n",
    "import json\n",
    "import pandas as pd\n",
    "import uuid\n",
    "import sys\n",
    "import stat\n",
    "import json\n",
    "import warnings\n",
    "import base64\n",
    "import time\n",
    "import random\n",
    "\n",
    "\n",
    "#plotting\n",
    "from matplotlib import pyplot\n",
    "import seaborn as sns\n",
    "\n",
    "warnings.filterwarnings(\"ignore\")\n"
   ]
  },
  {
   "cell_type": "code",
   "execution_count": 2,
   "metadata": {},
   "outputs": [],
   "source": [
    "path = \"C:\\\\Users\\\\oskar\\\\OneDrive - Danmarks Tekniske Universitet\\\\Kandidat Speciale\\\\Programmering\\\\JSON_files\\\\\"\n",
    "\n",
    "json_merged=[]\n",
    "\n",
    "#loading example file from LCAbyg and mergning them into one json-list.\n",
    "for root, dirs, files in os.walk(path, topdown=False):\n",
    "    for name in files:\n",
    "        file = os.path.join(root, name)\n",
    "        \n",
    "        f = open(file)\n",
    "        f_load = json.load(f)\n",
    "        json_merged = json_merged+f_load\n",
    "        \n",
    "out_file = open(\"C:\\\\Users\\\\oskar\\\\OneDrive - Danmarks Tekniske Universitet\\\\Kandidat Speciale\\\\Programmering\\\\LCAbyg_API\\\\api_in\\\\example_project.json\", \"w\")\n",
    "  \n",
    "json.dump(json_merged, out_file, indent = 2)\n",
    "  \n",
    "out_file.close()"
   ]
  },
  {
   "cell_type": "code",
   "execution_count": 3,
   "metadata": {},
   "outputs": [],
   "source": [
    "with open(\"C:\\\\Users\\\\oskar\\\\OneDrive - Danmarks Tekniske Universitet\\\\Kandidat Speciale\\\\Programmering\\\\RevitQuantities\\\\Building.txt\") as f:\n",
    "    contents = f.read()\n",
    "\n",
    "gfa = float(contents.split(\",\")[1])"
   ]
  },
  {
   "cell_type": "code",
   "execution_count": 4,
   "metadata": {},
   "outputs": [
    {
     "data": {
      "text/plain": [
       "278.1"
      ]
     },
     "execution_count": 4,
     "metadata": {},
     "output_type": "execute_result"
    }
   ],
   "source": [
    "gfa"
   ]
  },
  {
   "cell_type": "code",
   "execution_count": 5,
   "metadata": {},
   "outputs": [],
   "source": [
    "def send_job(input_path, output_path, username, password):\n",
    "    print('Preparing data:')\n",
    "    with open(input_path, 'r', encoding='utf-8') as f:\n",
    "        input_json = f.read()\n",
    "    target = 'lcabyg5_calc'\n",
    "    user_group = 'Test'\n",
    "    job_data = {\n",
    "        'priority': 0,\n",
    "        'job_target': target,\n",
    "        'job_target_min_ver': '',\n",
    "        'job_target_max_ver': '',\n",
    "        'job_arguments': '',\n",
    "        'input_blob': base64.standard_b64encode(input_json.encode('utf-8')).decode('utf-8'),\n",
    "    }\n",
    "    print()\n",
    "\n",
    "    print('Finding a server:')\n",
    "    job_queue_url = get_a_job_server(target, user_group)\n",
    "    print(f'job_queue_url = {job_queue_url}')\n",
    "    print()\n",
    "\n",
    "    print('Sending ping:')\n",
    "    res_ping = ping(job_queue_url)\n",
    "    print(f'res_ping = {res_ping}')\n",
    "    print()\n",
    "\n",
    "    print('Logging in:')\n",
    "    token = login(job_queue_url, username, password)\n",
    "    print(f'token = {token}')\n",
    "    print()\n",
    "\n",
    "    print('Submitting a new job:')\n",
    "    job_id = new_job(job_queue_url, token, job_data)\n",
    "    print(f'job_id = {job_id}')\n",
    "    print()\n",
    "\n",
    "    print('Waiting for the job to finish:')\n",
    "    done = False\n",
    "    while not done:\n",
    "        status = job_status(job_queue_url, token, job_id)\n",
    "        print(f'status = {status[\"status\"]}')\n",
    "        done = (status['status'] == 'Ready') or (status['status'] == 'Failed')\n",
    "        time.sleep(1)\n",
    "    print()\n",
    "\n",
    "    print('Download the results:')\n",
    "    job_output_raw = get_job_output(job_queue_url, token, job_id)\n",
    "    job_output = base64.b64decode(job_output_raw).decode('utf-8')\n",
    "    print()\n",
    "\n",
    "    print('Saving the results to disk:')\n",
    "    data = json.loads(job_output)\n",
    "    with open(output_path, 'w', encoding='utf-8') as f:\n",
    "        json.dump(data, f, indent=2, ensure_ascii=False)\n",
    "    print()\n",
    "\n",
    "    print('Done')"
   ]
  },
  {
   "cell_type": "code",
   "execution_count": 7,
   "metadata": {},
   "outputs": [
    {
     "name": "stdout",
     "output_type": "stream",
     "text": [
      "Preparing data:\n",
      "\n",
      "Finding a server:\n"
     ]
    },
    {
     "ename": "ConnectionError",
     "evalue": "HTTPSConnectionPool(host='swa-dir-a.buildsrv.dk', port=443): Max retries exceeded with url: / (Caused by NewConnectionError('<urllib3.connection.HTTPSConnection object at 0x000001713BFDB910>: Failed to establish a new connection: [Errno 11001] getaddrinfo failed'))",
     "output_type": "error",
     "traceback": [
      "\u001b[1;31m---------------------------------------------------------------------------\u001b[0m",
      "\u001b[1;31mgaierror\u001b[0m                                  Traceback (most recent call last)",
      "File \u001b[1;32mc:\\Users\\oskar\\flask\\venv\\lib\\site-packages\\urllib3\\connection.py:174\u001b[0m, in \u001b[0;36mHTTPConnection._new_conn\u001b[1;34m(self)\u001b[0m\n\u001b[0;32m    173\u001b[0m \u001b[39mtry\u001b[39;00m:\n\u001b[1;32m--> 174\u001b[0m     conn \u001b[39m=\u001b[39m connection\u001b[39m.\u001b[39mcreate_connection(\n\u001b[0;32m    175\u001b[0m         (\u001b[39mself\u001b[39m\u001b[39m.\u001b[39m_dns_host, \u001b[39mself\u001b[39m\u001b[39m.\u001b[39mport), \u001b[39mself\u001b[39m\u001b[39m.\u001b[39mtimeout, \u001b[39m*\u001b[39m\u001b[39m*\u001b[39mextra_kw\n\u001b[0;32m    176\u001b[0m     )\n\u001b[0;32m    178\u001b[0m \u001b[39mexcept\u001b[39;00m SocketTimeout:\n",
      "File \u001b[1;32mc:\\Users\\oskar\\flask\\venv\\lib\\site-packages\\urllib3\\util\\connection.py:72\u001b[0m, in \u001b[0;36mcreate_connection\u001b[1;34m(address, timeout, source_address, socket_options)\u001b[0m\n\u001b[0;32m     68\u001b[0m     \u001b[39mreturn\u001b[39;00m six\u001b[39m.\u001b[39mraise_from(\n\u001b[0;32m     69\u001b[0m         LocationParseError(\u001b[39mu\u001b[39m\u001b[39m\"\u001b[39m\u001b[39m'\u001b[39m\u001b[39m%s\u001b[39;00m\u001b[39m'\u001b[39m\u001b[39m, label empty or too long\u001b[39m\u001b[39m\"\u001b[39m \u001b[39m%\u001b[39m host), \u001b[39mNone\u001b[39;00m\n\u001b[0;32m     70\u001b[0m     )\n\u001b[1;32m---> 72\u001b[0m \u001b[39mfor\u001b[39;00m res \u001b[39min\u001b[39;00m socket\u001b[39m.\u001b[39;49mgetaddrinfo(host, port, family, socket\u001b[39m.\u001b[39;49mSOCK_STREAM):\n\u001b[0;32m     73\u001b[0m     af, socktype, proto, canonname, sa \u001b[39m=\u001b[39m res\n",
      "File \u001b[1;32mC:\\Program Files\\WindowsApps\\PythonSoftwareFoundation.Python.3.10_3.10.2288.0_x64__qbz5n2kfra8p0\\lib\\socket.py:955\u001b[0m, in \u001b[0;36mgetaddrinfo\u001b[1;34m(host, port, family, type, proto, flags)\u001b[0m\n\u001b[0;32m    954\u001b[0m addrlist \u001b[39m=\u001b[39m []\n\u001b[1;32m--> 955\u001b[0m \u001b[39mfor\u001b[39;00m res \u001b[39min\u001b[39;00m _socket\u001b[39m.\u001b[39;49mgetaddrinfo(host, port, family, \u001b[39mtype\u001b[39;49m, proto, flags):\n\u001b[0;32m    956\u001b[0m     af, socktype, proto, canonname, sa \u001b[39m=\u001b[39m res\n",
      "\u001b[1;31mgaierror\u001b[0m: [Errno 11001] getaddrinfo failed",
      "\nDuring handling of the above exception, another exception occurred:\n",
      "\u001b[1;31mNewConnectionError\u001b[0m                        Traceback (most recent call last)",
      "File \u001b[1;32mc:\\Users\\oskar\\flask\\venv\\lib\\site-packages\\urllib3\\connectionpool.py:703\u001b[0m, in \u001b[0;36mHTTPConnectionPool.urlopen\u001b[1;34m(self, method, url, body, headers, retries, redirect, assert_same_host, timeout, pool_timeout, release_conn, chunked, body_pos, **response_kw)\u001b[0m\n\u001b[0;32m    702\u001b[0m \u001b[39m# Make the request on the httplib connection object.\u001b[39;00m\n\u001b[1;32m--> 703\u001b[0m httplib_response \u001b[39m=\u001b[39m \u001b[39mself\u001b[39;49m\u001b[39m.\u001b[39;49m_make_request(\n\u001b[0;32m    704\u001b[0m     conn,\n\u001b[0;32m    705\u001b[0m     method,\n\u001b[0;32m    706\u001b[0m     url,\n\u001b[0;32m    707\u001b[0m     timeout\u001b[39m=\u001b[39;49mtimeout_obj,\n\u001b[0;32m    708\u001b[0m     body\u001b[39m=\u001b[39;49mbody,\n\u001b[0;32m    709\u001b[0m     headers\u001b[39m=\u001b[39;49mheaders,\n\u001b[0;32m    710\u001b[0m     chunked\u001b[39m=\u001b[39;49mchunked,\n\u001b[0;32m    711\u001b[0m )\n\u001b[0;32m    713\u001b[0m \u001b[39m# If we're going to release the connection in ``finally:``, then\u001b[39;00m\n\u001b[0;32m    714\u001b[0m \u001b[39m# the response doesn't need to know about the connection. Otherwise\u001b[39;00m\n\u001b[0;32m    715\u001b[0m \u001b[39m# it will also try to release it and we'll have a double-release\u001b[39;00m\n\u001b[0;32m    716\u001b[0m \u001b[39m# mess.\u001b[39;00m\n",
      "File \u001b[1;32mc:\\Users\\oskar\\flask\\venv\\lib\\site-packages\\urllib3\\connectionpool.py:386\u001b[0m, in \u001b[0;36mHTTPConnectionPool._make_request\u001b[1;34m(self, conn, method, url, timeout, chunked, **httplib_request_kw)\u001b[0m\n\u001b[0;32m    385\u001b[0m \u001b[39mtry\u001b[39;00m:\n\u001b[1;32m--> 386\u001b[0m     \u001b[39mself\u001b[39;49m\u001b[39m.\u001b[39;49m_validate_conn(conn)\n\u001b[0;32m    387\u001b[0m \u001b[39mexcept\u001b[39;00m (SocketTimeout, BaseSSLError) \u001b[39mas\u001b[39;00m e:\n\u001b[0;32m    388\u001b[0m     \u001b[39m# Py2 raises this as a BaseSSLError, Py3 raises it as socket timeout.\u001b[39;00m\n",
      "File \u001b[1;32mc:\\Users\\oskar\\flask\\venv\\lib\\site-packages\\urllib3\\connectionpool.py:1042\u001b[0m, in \u001b[0;36mHTTPSConnectionPool._validate_conn\u001b[1;34m(self, conn)\u001b[0m\n\u001b[0;32m   1041\u001b[0m \u001b[39mif\u001b[39;00m \u001b[39mnot\u001b[39;00m \u001b[39mgetattr\u001b[39m(conn, \u001b[39m\"\u001b[39m\u001b[39msock\u001b[39m\u001b[39m\"\u001b[39m, \u001b[39mNone\u001b[39;00m):  \u001b[39m# AppEngine might not have  `.sock`\u001b[39;00m\n\u001b[1;32m-> 1042\u001b[0m     conn\u001b[39m.\u001b[39;49mconnect()\n\u001b[0;32m   1044\u001b[0m \u001b[39mif\u001b[39;00m \u001b[39mnot\u001b[39;00m conn\u001b[39m.\u001b[39mis_verified:\n",
      "File \u001b[1;32mc:\\Users\\oskar\\flask\\venv\\lib\\site-packages\\urllib3\\connection.py:358\u001b[0m, in \u001b[0;36mHTTPSConnection.connect\u001b[1;34m(self)\u001b[0m\n\u001b[0;32m    356\u001b[0m \u001b[39mdef\u001b[39;00m \u001b[39mconnect\u001b[39m(\u001b[39mself\u001b[39m):\n\u001b[0;32m    357\u001b[0m     \u001b[39m# Add certificate verification\u001b[39;00m\n\u001b[1;32m--> 358\u001b[0m     \u001b[39mself\u001b[39m\u001b[39m.\u001b[39msock \u001b[39m=\u001b[39m conn \u001b[39m=\u001b[39m \u001b[39mself\u001b[39;49m\u001b[39m.\u001b[39;49m_new_conn()\n\u001b[0;32m    359\u001b[0m     hostname \u001b[39m=\u001b[39m \u001b[39mself\u001b[39m\u001b[39m.\u001b[39mhost\n",
      "File \u001b[1;32mc:\\Users\\oskar\\flask\\venv\\lib\\site-packages\\urllib3\\connection.py:186\u001b[0m, in \u001b[0;36mHTTPConnection._new_conn\u001b[1;34m(self)\u001b[0m\n\u001b[0;32m    185\u001b[0m \u001b[39mexcept\u001b[39;00m SocketError \u001b[39mas\u001b[39;00m e:\n\u001b[1;32m--> 186\u001b[0m     \u001b[39mraise\u001b[39;00m NewConnectionError(\n\u001b[0;32m    187\u001b[0m         \u001b[39mself\u001b[39m, \u001b[39m\"\u001b[39m\u001b[39mFailed to establish a new connection: \u001b[39m\u001b[39m%s\u001b[39;00m\u001b[39m\"\u001b[39m \u001b[39m%\u001b[39m e\n\u001b[0;32m    188\u001b[0m     )\n\u001b[0;32m    190\u001b[0m \u001b[39mreturn\u001b[39;00m conn\n",
      "\u001b[1;31mNewConnectionError\u001b[0m: <urllib3.connection.HTTPSConnection object at 0x000001713BFDB910>: Failed to establish a new connection: [Errno 11001] getaddrinfo failed",
      "\nDuring handling of the above exception, another exception occurred:\n",
      "\u001b[1;31mMaxRetryError\u001b[0m                             Traceback (most recent call last)",
      "File \u001b[1;32mc:\\Users\\oskar\\flask\\venv\\lib\\site-packages\\requests\\adapters.py:489\u001b[0m, in \u001b[0;36mHTTPAdapter.send\u001b[1;34m(self, request, stream, timeout, verify, cert, proxies)\u001b[0m\n\u001b[0;32m    488\u001b[0m \u001b[39mif\u001b[39;00m \u001b[39mnot\u001b[39;00m chunked:\n\u001b[1;32m--> 489\u001b[0m     resp \u001b[39m=\u001b[39m conn\u001b[39m.\u001b[39;49murlopen(\n\u001b[0;32m    490\u001b[0m         method\u001b[39m=\u001b[39;49mrequest\u001b[39m.\u001b[39;49mmethod,\n\u001b[0;32m    491\u001b[0m         url\u001b[39m=\u001b[39;49murl,\n\u001b[0;32m    492\u001b[0m         body\u001b[39m=\u001b[39;49mrequest\u001b[39m.\u001b[39;49mbody,\n\u001b[0;32m    493\u001b[0m         headers\u001b[39m=\u001b[39;49mrequest\u001b[39m.\u001b[39;49mheaders,\n\u001b[0;32m    494\u001b[0m         redirect\u001b[39m=\u001b[39;49m\u001b[39mFalse\u001b[39;49;00m,\n\u001b[0;32m    495\u001b[0m         assert_same_host\u001b[39m=\u001b[39;49m\u001b[39mFalse\u001b[39;49;00m,\n\u001b[0;32m    496\u001b[0m         preload_content\u001b[39m=\u001b[39;49m\u001b[39mFalse\u001b[39;49;00m,\n\u001b[0;32m    497\u001b[0m         decode_content\u001b[39m=\u001b[39;49m\u001b[39mFalse\u001b[39;49;00m,\n\u001b[0;32m    498\u001b[0m         retries\u001b[39m=\u001b[39;49m\u001b[39mself\u001b[39;49m\u001b[39m.\u001b[39;49mmax_retries,\n\u001b[0;32m    499\u001b[0m         timeout\u001b[39m=\u001b[39;49mtimeout,\n\u001b[0;32m    500\u001b[0m     )\n\u001b[0;32m    502\u001b[0m \u001b[39m# Send the request.\u001b[39;00m\n\u001b[0;32m    503\u001b[0m \u001b[39melse\u001b[39;00m:\n",
      "File \u001b[1;32mc:\\Users\\oskar\\flask\\venv\\lib\\site-packages\\urllib3\\connectionpool.py:787\u001b[0m, in \u001b[0;36mHTTPConnectionPool.urlopen\u001b[1;34m(self, method, url, body, headers, retries, redirect, assert_same_host, timeout, pool_timeout, release_conn, chunked, body_pos, **response_kw)\u001b[0m\n\u001b[0;32m    785\u001b[0m     e \u001b[39m=\u001b[39m ProtocolError(\u001b[39m\"\u001b[39m\u001b[39mConnection aborted.\u001b[39m\u001b[39m\"\u001b[39m, e)\n\u001b[1;32m--> 787\u001b[0m retries \u001b[39m=\u001b[39m retries\u001b[39m.\u001b[39;49mincrement(\n\u001b[0;32m    788\u001b[0m     method, url, error\u001b[39m=\u001b[39;49me, _pool\u001b[39m=\u001b[39;49m\u001b[39mself\u001b[39;49m, _stacktrace\u001b[39m=\u001b[39;49msys\u001b[39m.\u001b[39;49mexc_info()[\u001b[39m2\u001b[39;49m]\n\u001b[0;32m    789\u001b[0m )\n\u001b[0;32m    790\u001b[0m retries\u001b[39m.\u001b[39msleep()\n",
      "File \u001b[1;32mc:\\Users\\oskar\\flask\\venv\\lib\\site-packages\\urllib3\\util\\retry.py:592\u001b[0m, in \u001b[0;36mRetry.increment\u001b[1;34m(self, method, url, response, error, _pool, _stacktrace)\u001b[0m\n\u001b[0;32m    591\u001b[0m \u001b[39mif\u001b[39;00m new_retry\u001b[39m.\u001b[39mis_exhausted():\n\u001b[1;32m--> 592\u001b[0m     \u001b[39mraise\u001b[39;00m MaxRetryError(_pool, url, error \u001b[39mor\u001b[39;00m ResponseError(cause))\n\u001b[0;32m    594\u001b[0m log\u001b[39m.\u001b[39mdebug(\u001b[39m\"\u001b[39m\u001b[39mIncremented Retry for (url=\u001b[39m\u001b[39m'\u001b[39m\u001b[39m%s\u001b[39;00m\u001b[39m'\u001b[39m\u001b[39m): \u001b[39m\u001b[39m%r\u001b[39;00m\u001b[39m\"\u001b[39m, url, new_retry)\n",
      "\u001b[1;31mMaxRetryError\u001b[0m: HTTPSConnectionPool(host='swa-dir-a.buildsrv.dk', port=443): Max retries exceeded with url: / (Caused by NewConnectionError('<urllib3.connection.HTTPSConnection object at 0x000001713BFDB910>: Failed to establish a new connection: [Errno 11001] getaddrinfo failed'))",
      "\nDuring handling of the above exception, another exception occurred:\n",
      "\u001b[1;31mConnectionError\u001b[0m                           Traceback (most recent call last)",
      "Cell \u001b[1;32mIn [7], line 136\u001b[0m\n\u001b[0;32m    132\u001b[0m     output_json \u001b[39m=\u001b[39m \u001b[39m\"\u001b[39m\u001b[39mC:\u001b[39m\u001b[39m\\\\\u001b[39;00m\u001b[39mUsers\u001b[39m\u001b[39m\\\\\u001b[39;00m\u001b[39moskar\u001b[39m\u001b[39m\\\\\u001b[39;00m\u001b[39mOneDrive - Danmarks Tekniske Universitet\u001b[39m\u001b[39m\\\\\u001b[39;00m\u001b[39mKandidat Speciale\u001b[39m\u001b[39m\\\\\u001b[39;00m\u001b[39mProgrammering\u001b[39m\u001b[39m\\\\\u001b[39;00m\u001b[39mLCAbyg_API\u001b[39m\u001b[39m\\\\\u001b[39;00m\u001b[39mapi_out\u001b[39m\u001b[39m\\\\\u001b[39;00m\u001b[39mresult_json.json\u001b[39m\u001b[39m\"\u001b[39m\n\u001b[0;32m    134\u001b[0m     send_job(input_json, output_json, username, password)\n\u001b[1;32m--> 136\u001b[0m main()\n",
      "Cell \u001b[1;32mIn [7], line 134\u001b[0m, in \u001b[0;36mmain\u001b[1;34m()\u001b[0m\n\u001b[0;32m    131\u001b[0m input_json \u001b[39m=\u001b[39m \u001b[39m\"\u001b[39m\u001b[39mC:\u001b[39m\u001b[39m\\\\\u001b[39;00m\u001b[39mUsers\u001b[39m\u001b[39m\\\\\u001b[39;00m\u001b[39moskar\u001b[39m\u001b[39m\\\\\u001b[39;00m\u001b[39mOneDrive - Danmarks Tekniske Universitet\u001b[39m\u001b[39m\\\\\u001b[39;00m\u001b[39mKandidat Speciale\u001b[39m\u001b[39m\\\\\u001b[39;00m\u001b[39mProgrammering\u001b[39m\u001b[39m\\\\\u001b[39;00m\u001b[39mLCAbyg_API\u001b[39m\u001b[39m\\\\\u001b[39;00m\u001b[39mapi_in\u001b[39m\u001b[39m\\\\\u001b[39;00m\u001b[39mexample_project.json\u001b[39m\u001b[39m\"\u001b[39m\n\u001b[0;32m    132\u001b[0m output_json \u001b[39m=\u001b[39m \u001b[39m\"\u001b[39m\u001b[39mC:\u001b[39m\u001b[39m\\\\\u001b[39;00m\u001b[39mUsers\u001b[39m\u001b[39m\\\\\u001b[39;00m\u001b[39moskar\u001b[39m\u001b[39m\\\\\u001b[39;00m\u001b[39mOneDrive - Danmarks Tekniske Universitet\u001b[39m\u001b[39m\\\\\u001b[39;00m\u001b[39mKandidat Speciale\u001b[39m\u001b[39m\\\\\u001b[39;00m\u001b[39mProgrammering\u001b[39m\u001b[39m\\\\\u001b[39;00m\u001b[39mLCAbyg_API\u001b[39m\u001b[39m\\\\\u001b[39;00m\u001b[39mapi_out\u001b[39m\u001b[39m\\\\\u001b[39;00m\u001b[39mresult_json.json\u001b[39m\u001b[39m\"\u001b[39m\n\u001b[1;32m--> 134\u001b[0m send_job(input_json, output_json, username, password)\n",
      "Cell \u001b[1;32mIn [7], line 85\u001b[0m, in \u001b[0;36msend_job\u001b[1;34m(input_path, output_path, username, password)\u001b[0m\n\u001b[0;32m     82\u001b[0m \u001b[39mprint\u001b[39m()\n\u001b[0;32m     84\u001b[0m \u001b[39mprint\u001b[39m(\u001b[39m'\u001b[39m\u001b[39mFinding a server:\u001b[39m\u001b[39m'\u001b[39m)\n\u001b[1;32m---> 85\u001b[0m job_queue_url \u001b[39m=\u001b[39m get_a_job_server(target, user_group)\n\u001b[0;32m     86\u001b[0m \u001b[39mprint\u001b[39m(\u001b[39mf\u001b[39m\u001b[39m'\u001b[39m\u001b[39mjob_queue_url = \u001b[39m\u001b[39m{\u001b[39;00mjob_queue_url\u001b[39m}\u001b[39;00m\u001b[39m'\u001b[39m)\n\u001b[0;32m     87\u001b[0m \u001b[39mprint\u001b[39m()\n",
      "Cell \u001b[1;32mIn [7], line 5\u001b[0m, in \u001b[0;36mget_a_job_server\u001b[1;34m(target, user_type)\u001b[0m\n\u001b[0;32m      4\u001b[0m \u001b[39mdef\u001b[39;00m \u001b[39mget_a_job_server\u001b[39m(target, user_type):\n\u001b[1;32m----> 5\u001b[0m     res \u001b[39m=\u001b[39m requests\u001b[39m.\u001b[39;49mget(DIRECTORY_URL)\u001b[39m.\u001b[39mjson()\n\u001b[0;32m      7\u001b[0m     \u001b[39massert\u001b[39;00m res[\u001b[39m'\u001b[39m\u001b[39mversion\u001b[39m\u001b[39m'\u001b[39m] \u001b[39m==\u001b[39m \u001b[39m1\u001b[39m\n\u001b[0;32m      9\u001b[0m     alternatives \u001b[39m=\u001b[39m \u001b[39mlist\u001b[39m()\n",
      "File \u001b[1;32mc:\\Users\\oskar\\flask\\venv\\lib\\site-packages\\requests\\api.py:73\u001b[0m, in \u001b[0;36mget\u001b[1;34m(url, params, **kwargs)\u001b[0m\n\u001b[0;32m     62\u001b[0m \u001b[39mdef\u001b[39;00m \u001b[39mget\u001b[39m(url, params\u001b[39m=\u001b[39m\u001b[39mNone\u001b[39;00m, \u001b[39m*\u001b[39m\u001b[39m*\u001b[39mkwargs):\n\u001b[0;32m     63\u001b[0m     \u001b[39mr\u001b[39m\u001b[39m\"\"\"Sends a GET request.\u001b[39;00m\n\u001b[0;32m     64\u001b[0m \n\u001b[0;32m     65\u001b[0m \u001b[39m    :param url: URL for the new :class:`Request` object.\u001b[39;00m\n\u001b[1;32m   (...)\u001b[0m\n\u001b[0;32m     70\u001b[0m \u001b[39m    :rtype: requests.Response\u001b[39;00m\n\u001b[0;32m     71\u001b[0m \u001b[39m    \"\"\"\u001b[39;00m\n\u001b[1;32m---> 73\u001b[0m     \u001b[39mreturn\u001b[39;00m request(\u001b[39m\"\u001b[39m\u001b[39mget\u001b[39m\u001b[39m\"\u001b[39m, url, params\u001b[39m=\u001b[39mparams, \u001b[39m*\u001b[39m\u001b[39m*\u001b[39mkwargs)\n",
      "File \u001b[1;32mc:\\Users\\oskar\\flask\\venv\\lib\\site-packages\\requests\\api.py:59\u001b[0m, in \u001b[0;36mrequest\u001b[1;34m(method, url, **kwargs)\u001b[0m\n\u001b[0;32m     55\u001b[0m \u001b[39m# By using the 'with' statement we are sure the session is closed, thus we\u001b[39;00m\n\u001b[0;32m     56\u001b[0m \u001b[39m# avoid leaving sockets open which can trigger a ResourceWarning in some\u001b[39;00m\n\u001b[0;32m     57\u001b[0m \u001b[39m# cases, and look like a memory leak in others.\u001b[39;00m\n\u001b[0;32m     58\u001b[0m \u001b[39mwith\u001b[39;00m sessions\u001b[39m.\u001b[39mSession() \u001b[39mas\u001b[39;00m session:\n\u001b[1;32m---> 59\u001b[0m     \u001b[39mreturn\u001b[39;00m session\u001b[39m.\u001b[39mrequest(method\u001b[39m=\u001b[39mmethod, url\u001b[39m=\u001b[39murl, \u001b[39m*\u001b[39m\u001b[39m*\u001b[39mkwargs)\n",
      "File \u001b[1;32mc:\\Users\\oskar\\flask\\venv\\lib\\site-packages\\requests\\sessions.py:587\u001b[0m, in \u001b[0;36mSession.request\u001b[1;34m(self, method, url, params, data, headers, cookies, files, auth, timeout, allow_redirects, proxies, hooks, stream, verify, cert, json)\u001b[0m\n\u001b[0;32m    582\u001b[0m send_kwargs \u001b[39m=\u001b[39m {\n\u001b[0;32m    583\u001b[0m     \u001b[39m\"\u001b[39m\u001b[39mtimeout\u001b[39m\u001b[39m\"\u001b[39m: timeout,\n\u001b[0;32m    584\u001b[0m     \u001b[39m\"\u001b[39m\u001b[39mallow_redirects\u001b[39m\u001b[39m\"\u001b[39m: allow_redirects,\n\u001b[0;32m    585\u001b[0m }\n\u001b[0;32m    586\u001b[0m send_kwargs\u001b[39m.\u001b[39mupdate(settings)\n\u001b[1;32m--> 587\u001b[0m resp \u001b[39m=\u001b[39m \u001b[39mself\u001b[39m\u001b[39m.\u001b[39msend(prep, \u001b[39m*\u001b[39m\u001b[39m*\u001b[39msend_kwargs)\n\u001b[0;32m    589\u001b[0m \u001b[39mreturn\u001b[39;00m resp\n",
      "File \u001b[1;32mc:\\Users\\oskar\\flask\\venv\\lib\\site-packages\\requests\\sessions.py:701\u001b[0m, in \u001b[0;36mSession.send\u001b[1;34m(self, request, **kwargs)\u001b[0m\n\u001b[0;32m    698\u001b[0m start \u001b[39m=\u001b[39m preferred_clock()\n\u001b[0;32m    700\u001b[0m \u001b[39m# Send the request\u001b[39;00m\n\u001b[1;32m--> 701\u001b[0m r \u001b[39m=\u001b[39m adapter\u001b[39m.\u001b[39msend(request, \u001b[39m*\u001b[39m\u001b[39m*\u001b[39mkwargs)\n\u001b[0;32m    703\u001b[0m \u001b[39m# Total elapsed time of the request (approximately)\u001b[39;00m\n\u001b[0;32m    704\u001b[0m elapsed \u001b[39m=\u001b[39m preferred_clock() \u001b[39m-\u001b[39m start\n",
      "File \u001b[1;32mc:\\Users\\oskar\\flask\\venv\\lib\\site-packages\\requests\\adapters.py:565\u001b[0m, in \u001b[0;36mHTTPAdapter.send\u001b[1;34m(self, request, stream, timeout, verify, cert, proxies)\u001b[0m\n\u001b[0;32m    561\u001b[0m     \u001b[39mif\u001b[39;00m \u001b[39misinstance\u001b[39m(e\u001b[39m.\u001b[39mreason, _SSLError):\n\u001b[0;32m    562\u001b[0m         \u001b[39m# This branch is for urllib3 v1.22 and later.\u001b[39;00m\n\u001b[0;32m    563\u001b[0m         \u001b[39mraise\u001b[39;00m SSLError(e, request\u001b[39m=\u001b[39mrequest)\n\u001b[1;32m--> 565\u001b[0m     \u001b[39mraise\u001b[39;00m \u001b[39mConnectionError\u001b[39;00m(e, request\u001b[39m=\u001b[39mrequest)\n\u001b[0;32m    567\u001b[0m \u001b[39mexcept\u001b[39;00m ClosedPoolError \u001b[39mas\u001b[39;00m e:\n\u001b[0;32m    568\u001b[0m     \u001b[39mraise\u001b[39;00m \u001b[39mConnectionError\u001b[39;00m(e, request\u001b[39m=\u001b[39mrequest)\n",
      "\u001b[1;31mConnectionError\u001b[0m: HTTPSConnectionPool(host='swa-dir-a.buildsrv.dk', port=443): Max retries exceeded with url: / (Caused by NewConnectionError('<urllib3.connection.HTTPSConnection object at 0x000001713BFDB910>: Failed to establish a new connection: [Errno 11001] getaddrinfo failed'))"
     ]
    }
   ],
   "source": [
    "DIRECTORY_URL = 'https://swa-dir-a.buildsrv.dk'\n",
    "\n",
    "\n",
    "def get_a_job_server(target, user_type):\n",
    "    res = requests.get(DIRECTORY_URL).json()\n",
    "\n",
    "    assert res['version'] == 1\n",
    "\n",
    "    alternatives = list()\n",
    "    for srv in res['job_queues']:\n",
    "        if target in srv['supported_targets'] and user_type in srv['allowed_users']:\n",
    "            alternatives.append(srv)\n",
    "\n",
    "    assert len(alternatives) > 0\n",
    "    return random.choice(alternatives)['url']\n",
    "\n",
    "\n",
    "def ping(job_queue_url):\n",
    "    res = requests.get(f'{job_queue_url}/v1/ping').text\n",
    "    assert res == 'pong'\n",
    "    return res\n",
    "\n",
    "\n",
    "def login(job_queue_url, username, password):\n",
    "    data = {\n",
    "        'username': username,\n",
    "        'password': password,\n",
    "    }\n",
    "    json_data = json.dumps(data)\n",
    "    res = requests.post(f'{job_queue_url}/v1/login', json_data)\n",
    "    data = json.loads(res.text)\n",
    "    return data\n",
    "\n",
    "\n",
    "def new_job(job_queue_url, token, job_data):\n",
    "    auth_headers = {\n",
    "        'Session': token,\n",
    "    }\n",
    "    res = requests.post(f'{job_queue_url}/v1/jobs', json=job_data, headers=auth_headers)\n",
    "    data = json.loads(res.text)\n",
    "    return data\n",
    "\n",
    "\n",
    "def job_status(job_queue_url, token, job_id):\n",
    "    auth_headers = {\n",
    "        'Session': token,\n",
    "    }\n",
    "    res = requests.get(f'{job_queue_url}/v1/jobs/{job_id}', headers=auth_headers)\n",
    "    return res.json()\n",
    "\n",
    "\n",
    "def job_delete(job_queue_url, token, job_id):\n",
    "    auth_headers = {\n",
    "        'Session': token,\n",
    "    }\n",
    "    res = requests.get(f'{job_queue_url}/v1/jobs/{job_id}', headers=auth_headers)\n",
    "    return res.json()\n",
    "\n",
    "\n",
    "def get_job_output(job_queue_url, token, job_id):\n",
    "    auth_headers = {\n",
    "        'Session': token,\n",
    "    }\n",
    "    res = requests.get(f'{job_queue_url}/v1/jobs/{job_id}/output', headers=auth_headers)\n",
    "    return res.json()\n",
    "\n",
    "\n",
    "def send_job(input_path, output_path, username, password):\n",
    "    print('Preparing data:')\n",
    "    with open(input_path, 'r', encoding='utf-8') as f:\n",
    "        input_json = f.read()\n",
    "    target = 'lcabyg5_calc'\n",
    "    user_group = 'Test'\n",
    "    job_data = {\n",
    "        'priority': 0,\n",
    "        'job_target': target,\n",
    "        'job_target_min_ver': '',\n",
    "        'job_target_max_ver': '',\n",
    "        'job_arguments': '',\n",
    "        'input_blob': base64.standard_b64encode(input_json.encode('utf-8')).decode('utf-8'),\n",
    "    }\n",
    "    print()\n",
    "\n",
    "    print('Finding a server:')\n",
    "    job_queue_url = get_a_job_server(target, user_group)\n",
    "    print(f'job_queue_url = {job_queue_url}')\n",
    "    print()\n",
    "\n",
    "    print('Sending ping:')\n",
    "    res_ping = ping(job_queue_url)\n",
    "    print(f'res_ping = {res_ping}')\n",
    "    print()\n",
    "\n",
    "    print('Logging in:')\n",
    "    token = login(job_queue_url, username, password)\n",
    "    print(f'token = {token}')\n",
    "    print()\n",
    "\n",
    "    print('Submitting a new job:')\n",
    "    job_id = new_job(job_queue_url, token, job_data)\n",
    "    print(f'job_id = {job_id}')\n",
    "    print()\n",
    "\n",
    "    print('Waiting for the job to finish:')\n",
    "    done = False\n",
    "    while not done:\n",
    "        status = job_status(job_queue_url, token, job_id)\n",
    "        print(f'status = {status[\"status\"]}')\n",
    "        done = (status['status'] == 'Ready') or (status['status'] == 'Failed')\n",
    "        time.sleep(1)\n",
    "    print()\n",
    "\n",
    "    print('Download the results:')\n",
    "    job_output_raw = get_job_output(job_queue_url, token, job_id)\n",
    "    job_output = base64.b64decode(job_output_raw).decode('utf-8')\n",
    "    print()\n",
    "\n",
    "    print('Saving the results to disk:')\n",
    "    data = json.loads(job_output)\n",
    "    with open(output_path, 'w', encoding='utf-8') as f:\n",
    "        json.dump(data, f, indent=2, ensure_ascii=False)\n",
    "    print()\n",
    "\n",
    "    print('Done')\n",
    "\n",
    "\n",
    "def main():\n",
    "    username = \"oskargram1996@gmail.com\"\n",
    "    password = \"da3f75d0-a94f-4700-ba7c-39882cb0f0bc\"\n",
    "\n",
    "    input_json = \"C:\\\\Users\\\\oskar\\\\OneDrive - Danmarks Tekniske Universitet\\\\Kandidat Speciale\\\\Programmering\\\\LCAbyg_API\\\\api_in\\\\example_project.json\"\n",
    "    output_json = \"C:\\\\Users\\\\oskar\\\\OneDrive - Danmarks Tekniske Universitet\\\\Kandidat Speciale\\\\Programmering\\\\LCAbyg_API\\\\api_out\\\\result_json.json\"\n",
    "\n",
    "    send_job(input_json, output_json, username, password)\n",
    "\n",
    "main()"
   ]
  },
  {
   "cell_type": "code",
   "execution_count": null,
   "metadata": {},
   "outputs": [],
   "source": [
    "file = \"C:\\\\Users\\\\oskar\\\\OneDrive - Danmarks Tekniske Universitet\\\\Kandidat Speciale\\\\Programmering\\\\LCAbyg_API\\\\api_out\\\\result_json.json\"\n",
    "f = open(file)\n",
    "f_load = json.load(f)\n",
    "\n",
    "building_id = '6d766aa5-50aa-4005-ab35-29f2fb82ddad'\n",
    "\n",
    "results = f_load['results'][building_id]['SumNew']['9999']"
   ]
  },
  {
   "cell_type": "code",
   "execution_count": 14,
   "metadata": {},
   "outputs": [
    {
     "data": {
      "text/plain": [
       "{'GWP_IOBC': 0.0,\n",
       " 'ADPE': 0.5997015720909085,\n",
       " 'PER': 5946946.9909608085,\n",
       " 'AP': 20849.224683321776,\n",
       " 'ODP': 3.232893253330261e-08,\n",
       " 'GWP': 3918009.838445652,\n",
       " 'ADPF': 32955840.17307249,\n",
       " 'PENR': 34694034.02446686,\n",
       " 'SER': 4813.263662929469,\n",
       " 'GWP_BC': 0.0,\n",
       " 'SENR': 45344.84029281698,\n",
       " 'EP': 1893.7120390408822,\n",
       " 'POCP': 967.3542739448202}"
      ]
     },
     "execution_count": 14,
     "metadata": {},
     "output_type": "execute_result"
    }
   ],
   "source": [
    "results"
   ]
  },
  {
   "cell_type": "code",
   "execution_count": 15,
   "metadata": {},
   "outputs": [
    {
     "data": {
      "text/plain": [
       "<AxesSubplot: xlabel='Impact Categories', ylabel='Value total'>"
      ]
     },
     "execution_count": 15,
     "metadata": {},
     "output_type": "execute_result"
    },
    {
     "data": {
      "image/png": "[encoded data removed]",
      "text/plain": [
       "<Figure size 1500x500 with 1 Axes>"
      ]
     },
     "metadata": {},
     "output_type": "display_data"
    }
   ],
   "source": [
    "df = pd.DataFrame((results).items(), columns=['Impact Categories', 'Value total'])\n",
    "\n",
    "a4_dims = (15, 5)\n",
    "\n",
    "fig, ax = pyplot.subplots(figsize=a4_dims)\n",
    "\n",
    "sns.barplot(ax = ax, data=df, x=\"Impact Categories\", y=\"Value total\")"
   ]
  },
  {
   "cell_type": "code",
   "execution_count": 41,
   "metadata": {},
   "outputs": [],
   "source": [
    "# df['Value / m2 / year'] = df['Value total']/gfa\n",
    "df['Value / m2 / year'] = round(df['Value total']/(gfa*50),2)"
   ]
  },
  {
   "cell_type": "code",
   "execution_count": 42,
   "metadata": {},
   "outputs": [],
   "source": [
    "df['Walls'] = df[\"Value / m2 / year\"]/0.3\n",
    "df['Floor'] = df[\"Value / m2 / year\"]/0.2\n",
    "df['Roof'] = df[\"Value / m2 / year\"]/0.25\n",
    "df['Ceiling'] = df[\"Value / m2 / year\"]/0.25\n"
   ]
  },
  {
   "cell_type": "code",
   "execution_count": 43,
   "metadata": {},
   "outputs": [
    {
     "data": {
      "text/html": [
       "<div>\n",
       "<style scoped>\n",
       "    .dataframe tbody tr th:only-of-type {\n",
       "        vertical-align: middle;\n",
       "    }\n",
       "\n",
       "    .dataframe tbody tr th {\n",
       "        vertical-align: top;\n",
       "    }\n",
       "\n",
       "    .dataframe thead th {\n",
       "        text-align: right;\n",
       "    }\n",
       "</style>\n",
       "<table border=\"1\" class=\"dataframe\">\n",
       "  <thead>\n",
       "    <tr style=\"text-align: right;\">\n",
       "      <th></th>\n",
       "      <th>Impact Categories</th>\n",
       "      <th>Walls</th>\n",
       "      <th>Floor</th>\n",
       "      <th>Roof</th>\n",
       "      <th>Ceiling</th>\n",
       "    </tr>\n",
       "  </thead>\n",
       "  <tbody>\n",
       "    <tr>\n",
       "      <th>0</th>\n",
       "      <td>GWP_IOBC</td>\n",
       "      <td>0.000000</td>\n",
       "      <td>0.00</td>\n",
       "      <td>0.00</td>\n",
       "      <td>0.00</td>\n",
       "    </tr>\n",
       "    <tr>\n",
       "      <th>1</th>\n",
       "      <td>ADPE</td>\n",
       "      <td>0.000000</td>\n",
       "      <td>0.00</td>\n",
       "      <td>0.00</td>\n",
       "      <td>0.00</td>\n",
       "    </tr>\n",
       "    <tr>\n",
       "      <th>2</th>\n",
       "      <td>PER</td>\n",
       "      <td>75.466667</td>\n",
       "      <td>113.20</td>\n",
       "      <td>90.56</td>\n",
       "      <td>90.56</td>\n",
       "    </tr>\n",
       "    <tr>\n",
       "      <th>3</th>\n",
       "      <td>AP</td>\n",
       "      <td>0.266667</td>\n",
       "      <td>0.40</td>\n",
       "      <td>0.32</td>\n",
       "      <td>0.32</td>\n",
       "    </tr>\n",
       "    <tr>\n",
       "      <th>4</th>\n",
       "      <td>ODP</td>\n",
       "      <td>0.000000</td>\n",
       "      <td>0.00</td>\n",
       "      <td>0.00</td>\n",
       "      <td>0.00</td>\n",
       "    </tr>\n",
       "    <tr>\n",
       "      <th>5</th>\n",
       "      <td>GWP</td>\n",
       "      <td>49.733333</td>\n",
       "      <td>74.60</td>\n",
       "      <td>59.68</td>\n",
       "      <td>59.68</td>\n",
       "    </tr>\n",
       "    <tr>\n",
       "      <th>6</th>\n",
       "      <td>ADPF</td>\n",
       "      <td>418.266667</td>\n",
       "      <td>627.40</td>\n",
       "      <td>501.92</td>\n",
       "      <td>501.92</td>\n",
       "    </tr>\n",
       "    <tr>\n",
       "      <th>7</th>\n",
       "      <td>PENR</td>\n",
       "      <td>440.333333</td>\n",
       "      <td>660.50</td>\n",
       "      <td>528.40</td>\n",
       "      <td>528.40</td>\n",
       "    </tr>\n",
       "    <tr>\n",
       "      <th>8</th>\n",
       "      <td>SER</td>\n",
       "      <td>0.066667</td>\n",
       "      <td>0.10</td>\n",
       "      <td>0.08</td>\n",
       "      <td>0.08</td>\n",
       "    </tr>\n",
       "    <tr>\n",
       "      <th>9</th>\n",
       "      <td>GWP_BC</td>\n",
       "      <td>0.000000</td>\n",
       "      <td>0.00</td>\n",
       "      <td>0.00</td>\n",
       "      <td>0.00</td>\n",
       "    </tr>\n",
       "    <tr>\n",
       "      <th>10</th>\n",
       "      <td>SENR</td>\n",
       "      <td>0.566667</td>\n",
       "      <td>0.85</td>\n",
       "      <td>0.68</td>\n",
       "      <td>0.68</td>\n",
       "    </tr>\n",
       "    <tr>\n",
       "      <th>11</th>\n",
       "      <td>EP</td>\n",
       "      <td>0.033333</td>\n",
       "      <td>0.05</td>\n",
       "      <td>0.04</td>\n",
       "      <td>0.04</td>\n",
       "    </tr>\n",
       "    <tr>\n",
       "      <th>12</th>\n",
       "      <td>POCP</td>\n",
       "      <td>0.000000</td>\n",
       "      <td>0.00</td>\n",
       "      <td>0.00</td>\n",
       "      <td>0.00</td>\n",
       "    </tr>\n",
       "  </tbody>\n",
       "</table>\n",
       "</div>"
      ],
      "text/plain": [
       "   Impact Categories       Walls   Floor    Roof  Ceiling\n",
       "0           GWP_IOBC    0.000000    0.00    0.00     0.00\n",
       "1               ADPE    0.000000    0.00    0.00     0.00\n",
       "2                PER   75.466667  113.20   90.56    90.56\n",
       "3                 AP    0.266667    0.40    0.32     0.32\n",
       "4                ODP    0.000000    0.00    0.00     0.00\n",
       "5                GWP   49.733333   74.60   59.68    59.68\n",
       "6               ADPF  418.266667  627.40  501.92   501.92\n",
       "7               PENR  440.333333  660.50  528.40   528.40\n",
       "8                SER    0.066667    0.10    0.08     0.08\n",
       "9             GWP_BC    0.000000    0.00    0.00     0.00\n",
       "10              SENR    0.566667    0.85    0.68     0.68\n",
       "11                EP    0.033333    0.05    0.04     0.04\n",
       "12              POCP    0.000000    0.00    0.00     0.00"
      ]
     },
     "execution_count": 43,
     "metadata": {},
     "output_type": "execute_result"
    }
   ],
   "source": [
    "df[['Impact Categories','Walls','Floor','Roof','Ceiling']]\n"
   ]
  },
  {
   "cell_type": "code",
   "execution_count": 52,
   "metadata": {},
   "outputs": [
    {
     "data": {
      "image/png": "[encoded data removed]",
      "text/plain": [
       "<Figure size 1500x500 with 1 Axes>"
      ]
     },
     "metadata": {},
     "output_type": "display_data"
    },
    {
     "ename": "",
     "evalue": "",
     "output_type": "error",
     "traceback": [
      "\u001b[1;31mThe Kernel crashed while executing code in the the current cell or a previous cell. Please review the code in the cell(s) to identify a possible cause of the failure. Click <a href='https://aka.ms/vscodeJupyterKernelCrash'>here</a> for more info. View Jupyter <a href='command:jupyter.viewOutput'>log</a> for further details."
     ]
    }
   ],
   "source": [
    "#set seaborn plotting aesthetics\n",
    "\n",
    "import matplotlib.pyplot as plt\n",
    "df['Value / m2 / year'] = round(df['Value total']/(gfa*50),2)\n",
    "\n",
    "df_new = df[['Impact Categories','Walls','Floor','Roof','Ceiling']]\n",
    "\n",
    "a4_dims = (15, 5)\n",
    "sns.set(style='white')\n",
    "\n",
    "#create stacked bar chart\n",
    "df_new.set_index('Impact Categories').plot(kind='bar', stacked=True, color=['steelblue', 'red', 'orange', 'green'],figsize= (15, 5))\n",
    "\n",
    "#add overall title\n",
    "plt.title('Impact by element category', fontsize=16)\n",
    "\n",
    "#add axis titles\n",
    "plt.xlabel('Impact Categories')\n",
    "plt.ylabel('Impact')\n",
    "\n",
    "#rotate x-axis labels\n",
    "plt.xticks(rotation=45)\n",
    "\n",
    "plt.show()\n"
   ]
  },
  {
   "cell_type": "code",
   "execution_count": 26,
   "metadata": {},
   "outputs": [
    {
     "data": {
      "text/plain": [
       "<AxesSubplot: xlabel='Impact Categories', ylabel='Value / m2 / year'>"
      ]
     },
     "execution_count": 26,
     "metadata": {},
     "output_type": "execute_result"
    },
    {
     "data": {
      "image/png": "[encoded data removed]",
      "text/plain": [
       "<Figure size 1500x500 with 1 Axes>"
      ]
     },
     "metadata": {},
     "output_type": "display_data"
    }
   ],
   "source": [
    "df['Value / m2 / year'] = round(df['Value total']/(gfa*50),2)\n",
    "\n",
    "a4_dims = (15, 5)\n",
    "\n",
    "fig, ax = pyplot.subplots(figsize=a4_dims)\n",
    "\n",
    "sns.barplot(ax = ax, data=df, x=\"Impact Categories\", y=\"Value / m2 / year\")"
   ]
  },
  {
   "cell_type": "code",
   "execution_count": 27,
   "metadata": {},
   "outputs": [
    {
     "data": {
      "image/png": "[encoded data removed]",
      "text/plain": [
       "<Figure size 300x500 with 1 Axes>"
      ]
     },
     "metadata": {},
     "output_type": "display_data"
    }
   ],
   "source": [
    "import matplotlib.pyplot as plt\n",
    "a4_dims = (3, 5)\n",
    "\n",
    "fig, ax = pyplot.subplots(figsize=a4_dims)\n",
    "\n",
    "graph =sns.barplot(ax = ax, data=df[df[\"Impact Categories\"] == \"GWP\"], x=\"Impact Categories\", y=\"Value / m2 / year\")\n",
    "\n",
    "graph.axhline(12, color = \"red\", linestyle = \"--\")\n",
    "#The plot is shown\n",
    "plt.show()"
   ]
  },
  {
   "cell_type": "code",
   "execution_count": 28,
   "metadata": {},
   "outputs": [
    {
     "data": {
      "text/plain": [
       "5252.8"
      ]
     },
     "execution_count": 28,
     "metadata": {},
     "output_type": "execute_result"
    }
   ],
   "source": [
    "gfa"
   ]
  },
  {
   "cell_type": "code",
   "execution_count": 29,
   "metadata": {},
   "outputs": [
    {
     "data": {
      "text/html": [
       "<div>\n",
       "<style scoped>\n",
       "    .dataframe tbody tr th:only-of-type {\n",
       "        vertical-align: middle;\n",
       "    }\n",
       "\n",
       "    .dataframe tbody tr th {\n",
       "        vertical-align: top;\n",
       "    }\n",
       "\n",
       "    .dataframe thead th {\n",
       "        text-align: right;\n",
       "    }\n",
       "</style>\n",
       "<table border=\"1\" class=\"dataframe\">\n",
       "  <thead>\n",
       "    <tr style=\"text-align: right;\">\n",
       "      <th></th>\n",
       "      <th>Impact Categories</th>\n",
       "      <th>Value total</th>\n",
       "      <th>Value / m2 / year</th>\n",
       "    </tr>\n",
       "  </thead>\n",
       "  <tbody>\n",
       "    <tr>\n",
       "      <th>5</th>\n",
       "      <td>GWP</td>\n",
       "      <td>3.918010e+06</td>\n",
       "      <td>14.92</td>\n",
       "    </tr>\n",
       "  </tbody>\n",
       "</table>\n",
       "</div>"
      ],
      "text/plain": [
       "  Impact Categories   Value total  Value / m2 / year\n",
       "5               GWP  3.918010e+06              14.92"
      ]
     },
     "execution_count": 29,
     "metadata": {},
     "output_type": "execute_result"
    }
   ],
   "source": [
    "df[df[\"Impact Categories\"] == \"GWP\"]"
   ]
  },
  {
   "cell_type": "code",
   "execution_count": null,
   "metadata": {},
   "outputs": [],
   "source": []
  }
 ],
 "metadata": {
  "kernelspec": {
   "display_name": "Python 3.10.8 ('venv': venv)",
   "language": "python",
   "name": "python3"
  },
  "language_info": {
   "codemirror_mode": {
    "name": "ipython",
    "version": 3
   },
   "file_extension": ".py",
   "mimetype": "text/x-python",
   "name": "python",
   "nbconvert_exporter": "python",
   "pygments_lexer": "ipython3",
   "version": "3.10.9"
  },
  "orig_nbformat": 4,
  "vscode": {
   "interpreter": {
    "hash": "e7fd6fb2e0f7f2f2f4a406247f0283d7002977c42e31e7e4a0d91711197f0bb9"
   }
  }
 },
 "nbformat": 4,
 "nbformat_minor": 2
}
